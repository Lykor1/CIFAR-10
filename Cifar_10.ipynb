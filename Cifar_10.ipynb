{
  "nbformat": 4,
  "nbformat_minor": 0,
  "metadata": {
    "colab": {
      "provenance": [],
      "collapsed_sections": []
    },
    "kernelspec": {
      "name": "python3",
      "display_name": "Python 3"
    },
    "language_info": {
      "name": "python"
    },
    "accelerator": "GPU"
  },
  "cells": [
    {
      "cell_type": "code",
      "execution_count": 25,
      "metadata": {
        "id": "UxJzmnVCEYQJ"
      },
      "outputs": [],
      "source": [
        "from tensorflow.keras.datasets import cifar10\n",
        "from tensorflow.keras.layers import Dense, Flatten, Dropout, Conv2D, MaxPooling2D\n",
        "from tensorflow.keras.utils import to_categorical\n",
        "from tensorflow.keras.models import Sequential\n",
        "import numpy as np\n",
        "import matplotlib.pyplot as plt\n",
        "%matplotlib inline"
      ]
    },
    {
      "cell_type": "markdown",
      "source": [
        "Загрузка данных"
      ],
      "metadata": {
        "id": "yvW7l4nTGTFj"
      }
    },
    {
      "cell_type": "code",
      "source": [
        "(x_train, y_train), (x_test, y_test) = cifar10.load_data()"
      ],
      "metadata": {
        "id": "tOCoOYj0F8qN"
      },
      "execution_count": 26,
      "outputs": []
    },
    {
      "cell_type": "code",
      "source": [
        "x_train.shape"
      ],
      "metadata": {
        "colab": {
          "base_uri": "https://localhost:8080/"
        },
        "id": "tSeuQd5pGG-i",
        "outputId": "014d0617-01f6-4f47-84e2-2786518e6749"
      },
      "execution_count": 27,
      "outputs": [
        {
          "output_type": "execute_result",
          "data": {
            "text/plain": [
              "(50000, 32, 32, 3)"
            ]
          },
          "metadata": {},
          "execution_count": 27
        }
      ]
    },
    {
      "cell_type": "code",
      "source": [
        "x_test.shape"
      ],
      "metadata": {
        "colab": {
          "base_uri": "https://localhost:8080/"
        },
        "id": "xCDKcSPZGLlP",
        "outputId": "08d1cae7-67e3-4cbe-a810-ac59ca8c1a5e"
      },
      "execution_count": 28,
      "outputs": [
        {
          "output_type": "execute_result",
          "data": {
            "text/plain": [
              "(10000, 32, 32, 3)"
            ]
          },
          "metadata": {},
          "execution_count": 28
        }
      ]
    },
    {
      "cell_type": "code",
      "source": [
        "x_train[0][0]"
      ],
      "metadata": {
        "colab": {
          "base_uri": "https://localhost:8080/"
        },
        "id": "zi0NLazsG1C8",
        "outputId": "0058fb1b-7cc3-4559-8a91-7df20ffa73d0"
      },
      "execution_count": 29,
      "outputs": [
        {
          "output_type": "execute_result",
          "data": {
            "text/plain": [
              "array([[ 59,  62,  63],\n",
              "       [ 43,  46,  45],\n",
              "       [ 50,  48,  43],\n",
              "       [ 68,  54,  42],\n",
              "       [ 98,  73,  52],\n",
              "       [119,  91,  63],\n",
              "       [139, 107,  75],\n",
              "       [145, 110,  80],\n",
              "       [149, 117,  89],\n",
              "       [149, 120,  93],\n",
              "       [131, 103,  77],\n",
              "       [125,  99,  76],\n",
              "       [142, 115,  91],\n",
              "       [144, 112,  86],\n",
              "       [137, 105,  79],\n",
              "       [129,  97,  71],\n",
              "       [137, 106,  79],\n",
              "       [134, 106,  76],\n",
              "       [124,  97,  64],\n",
              "       [139, 113,  78],\n",
              "       [139, 112,  75],\n",
              "       [133, 105,  69],\n",
              "       [136, 105,  74],\n",
              "       [139, 108,  77],\n",
              "       [152, 120,  89],\n",
              "       [163, 131, 100],\n",
              "       [168, 136, 108],\n",
              "       [159, 129, 102],\n",
              "       [158, 130, 104],\n",
              "       [158, 132, 108],\n",
              "       [152, 125, 102],\n",
              "       [148, 124, 103]], dtype=uint8)"
            ]
          },
          "metadata": {},
          "execution_count": 29
        }
      ]
    },
    {
      "cell_type": "code",
      "source": [
        "print(y_train.shape)\n",
        "y_train"
      ],
      "metadata": {
        "colab": {
          "base_uri": "https://localhost:8080/"
        },
        "id": "pm1_ni1aHkit",
        "outputId": "7fa9f92e-f2b4-4c8e-8062-55a799645637"
      },
      "execution_count": 30,
      "outputs": [
        {
          "output_type": "stream",
          "name": "stdout",
          "text": [
            "(50000, 1)\n"
          ]
        },
        {
          "output_type": "execute_result",
          "data": {
            "text/plain": [
              "array([[6],\n",
              "       [9],\n",
              "       [9],\n",
              "       ...,\n",
              "       [9],\n",
              "       [1],\n",
              "       [1]], dtype=uint8)"
            ]
          },
          "metadata": {},
          "execution_count": 30
        }
      ]
    },
    {
      "cell_type": "markdown",
      "source": [
        "Нормализация"
      ],
      "metadata": {
        "id": "2kWjfGmcGUiX"
      }
    },
    {
      "cell_type": "code",
      "source": [
        "x_train = x_train.astype('float32')\n",
        "x_test = x_test.astype('float32')\n",
        "\n",
        "x_train /= 255\n",
        "x_test /= 255"
      ],
      "metadata": {
        "id": "Y8ELJ3gNGRph"
      },
      "execution_count": 31,
      "outputs": []
    },
    {
      "cell_type": "code",
      "source": [
        "x_train[0][0]"
      ],
      "metadata": {
        "colab": {
          "base_uri": "https://localhost:8080/"
        },
        "id": "UUFrcWChGu87",
        "outputId": "d9692448-cbfe-4f78-b365-473b1cfd4b2c"
      },
      "execution_count": 32,
      "outputs": [
        {
          "output_type": "execute_result",
          "data": {
            "text/plain": [
              "array([[0.23137255, 0.24313726, 0.24705882],\n",
              "       [0.16862746, 0.18039216, 0.1764706 ],\n",
              "       [0.19607843, 0.1882353 , 0.16862746],\n",
              "       [0.26666668, 0.21176471, 0.16470589],\n",
              "       [0.38431373, 0.28627452, 0.20392157],\n",
              "       [0.46666667, 0.35686275, 0.24705882],\n",
              "       [0.54509807, 0.41960785, 0.29411766],\n",
              "       [0.5686275 , 0.43137255, 0.3137255 ],\n",
              "       [0.58431375, 0.45882353, 0.34901962],\n",
              "       [0.58431375, 0.47058824, 0.3647059 ],\n",
              "       [0.5137255 , 0.40392157, 0.3019608 ],\n",
              "       [0.49019608, 0.3882353 , 0.29803923],\n",
              "       [0.5568628 , 0.4509804 , 0.35686275],\n",
              "       [0.5647059 , 0.4392157 , 0.3372549 ],\n",
              "       [0.5372549 , 0.4117647 , 0.30980393],\n",
              "       [0.5058824 , 0.38039216, 0.2784314 ],\n",
              "       [0.5372549 , 0.41568628, 0.30980393],\n",
              "       [0.5254902 , 0.41568628, 0.29803923],\n",
              "       [0.4862745 , 0.38039216, 0.2509804 ],\n",
              "       [0.54509807, 0.44313726, 0.30588236],\n",
              "       [0.54509807, 0.4392157 , 0.29411766],\n",
              "       [0.52156866, 0.4117647 , 0.27058825],\n",
              "       [0.53333336, 0.4117647 , 0.2901961 ],\n",
              "       [0.54509807, 0.42352942, 0.3019608 ],\n",
              "       [0.59607846, 0.47058824, 0.34901962],\n",
              "       [0.6392157 , 0.5137255 , 0.39215687],\n",
              "       [0.65882355, 0.53333336, 0.42352942],\n",
              "       [0.62352943, 0.5058824 , 0.4       ],\n",
              "       [0.61960787, 0.50980395, 0.40784314],\n",
              "       [0.61960787, 0.5176471 , 0.42352942],\n",
              "       [0.59607846, 0.49019608, 0.4       ],\n",
              "       [0.5803922 , 0.4862745 , 0.40392157]], dtype=float32)"
            ]
          },
          "metadata": {},
          "execution_count": 32
        }
      ]
    },
    {
      "cell_type": "code",
      "source": [
        "y_train = to_categorical(y_train, 10)\n",
        "print(y_train.shape)\n",
        "print(y_train[0])\n",
        "y_test = to_categorical(y_test, 10)\n",
        "print(y_test.shape)\n",
        "print(y_test[0])"
      ],
      "metadata": {
        "colab": {
          "base_uri": "https://localhost:8080/"
        },
        "id": "Vf17g9SyHyqc",
        "outputId": "2e23fa34-491c-4f7a-d85d-9d67429ee87a"
      },
      "execution_count": 33,
      "outputs": [
        {
          "output_type": "stream",
          "name": "stdout",
          "text": [
            "(50000, 10)\n",
            "[0. 0. 0. 0. 0. 0. 1. 0. 0. 0.]\n",
            "(10000, 10)\n",
            "[0. 0. 0. 1. 0. 0. 0. 0. 0. 0.]\n"
          ]
        }
      ]
    },
    {
      "cell_type": "markdown",
      "source": [
        "Создание модели"
      ],
      "metadata": {
        "id": "73JnTrWxIpjN"
      }
    },
    {
      "cell_type": "code",
      "source": [
        "model = Sequential()\n",
        "model.add(Conv2D(32, (3, 3), padding='same', activation='relu', input_shape=(32,32,3)))\n",
        "model.add(Conv2D(32, (3, 3), padding='same', activation='relu'))\n",
        "model.add(MaxPooling2D())\n",
        "model.add(Dropout(0.3))\n",
        "model.add(Conv2D(64, (3, 3), padding='same', activation='relu'))\n",
        "model.add(Conv2D(64, (3, 3), activation='relu'))\n",
        "model.add(MaxPooling2D())\n",
        "model.add(Dropout(0.3))\n",
        "model.add(Flatten())\n",
        "model.add(Dense(128, activation='relu'))\n",
        "model.add(Dropout(0.5))\n",
        "model.add(Dense(10, activation='softmax'))"
      ],
      "metadata": {
        "id": "F_V3uo03IZBZ"
      },
      "execution_count": 39,
      "outputs": []
    },
    {
      "cell_type": "code",
      "source": [
        "model.compile(optimizer='Adam', loss='categorical_crossentropy', metrics=['accuracy'])"
      ],
      "metadata": {
        "id": "mzHoeXsuKC8Y"
      },
      "execution_count": 40,
      "outputs": []
    },
    {
      "cell_type": "markdown",
      "source": [
        "Обучение"
      ],
      "metadata": {
        "id": "A4FBwRhXIrCA"
      }
    },
    {
      "cell_type": "code",
      "source": [
        "history = model.fit(x_train, y_train, epochs=30, batch_size=32, validation_split=0.1, shuffle=True)"
      ],
      "metadata": {
        "colab": {
          "base_uri": "https://localhost:8080/"
        },
        "id": "BkOX9CPPKMzO",
        "outputId": "d94f8f90-0c6d-4ee1-bdfc-02002f9e6900"
      },
      "execution_count": 41,
      "outputs": [
        {
          "output_type": "stream",
          "name": "stdout",
          "text": [
            "Epoch 1/30\n",
            "1407/1407 [==============================] - 8s 5ms/step - loss: 1.6999 - accuracy: 0.3757 - val_loss: 1.3010 - val_accuracy: 0.5400\n",
            "Epoch 2/30\n",
            "1407/1407 [==============================] - 7s 5ms/step - loss: 1.3135 - accuracy: 0.5307 - val_loss: 1.1007 - val_accuracy: 0.6128\n",
            "Epoch 3/30\n",
            "1407/1407 [==============================] - 7s 5ms/step - loss: 1.1681 - accuracy: 0.5858 - val_loss: 0.9193 - val_accuracy: 0.6826\n",
            "Epoch 4/30\n",
            "1407/1407 [==============================] - 7s 5ms/step - loss: 1.0722 - accuracy: 0.6243 - val_loss: 0.8732 - val_accuracy: 0.6996\n",
            "Epoch 5/30\n",
            "1407/1407 [==============================] - 7s 5ms/step - loss: 1.0113 - accuracy: 0.6466 - val_loss: 0.8643 - val_accuracy: 0.6958\n",
            "Epoch 6/30\n",
            "1407/1407 [==============================] - 7s 5ms/step - loss: 0.9621 - accuracy: 0.6620 - val_loss: 0.7877 - val_accuracy: 0.7254\n",
            "Epoch 7/30\n",
            "1407/1407 [==============================] - 7s 5ms/step - loss: 0.9259 - accuracy: 0.6760 - val_loss: 0.7761 - val_accuracy: 0.7324\n",
            "Epoch 8/30\n",
            "1407/1407 [==============================] - 7s 5ms/step - loss: 0.9001 - accuracy: 0.6862 - val_loss: 0.7469 - val_accuracy: 0.7396\n",
            "Epoch 9/30\n",
            "1407/1407 [==============================] - 7s 5ms/step - loss: 0.8716 - accuracy: 0.6956 - val_loss: 0.7453 - val_accuracy: 0.7408\n",
            "Epoch 10/30\n",
            "1407/1407 [==============================] - 7s 5ms/step - loss: 0.8492 - accuracy: 0.7003 - val_loss: 0.7259 - val_accuracy: 0.7494\n",
            "Epoch 11/30\n",
            "1407/1407 [==============================] - 7s 5ms/step - loss: 0.8291 - accuracy: 0.7095 - val_loss: 0.7148 - val_accuracy: 0.7530\n",
            "Epoch 12/30\n",
            "1407/1407 [==============================] - 7s 5ms/step - loss: 0.8170 - accuracy: 0.7151 - val_loss: 0.6945 - val_accuracy: 0.7608\n",
            "Epoch 13/30\n",
            "1407/1407 [==============================] - 7s 5ms/step - loss: 0.8015 - accuracy: 0.7188 - val_loss: 0.6966 - val_accuracy: 0.7584\n",
            "Epoch 14/30\n",
            "1407/1407 [==============================] - 7s 5ms/step - loss: 0.7877 - accuracy: 0.7232 - val_loss: 0.7013 - val_accuracy: 0.7570\n",
            "Epoch 15/30\n",
            "1407/1407 [==============================] - 7s 5ms/step - loss: 0.7792 - accuracy: 0.7259 - val_loss: 0.6685 - val_accuracy: 0.7686\n",
            "Epoch 16/30\n",
            "1407/1407 [==============================] - 8s 5ms/step - loss: 0.7639 - accuracy: 0.7329 - val_loss: 0.6638 - val_accuracy: 0.7714\n",
            "Epoch 17/30\n",
            "1407/1407 [==============================] - 7s 5ms/step - loss: 0.7516 - accuracy: 0.7372 - val_loss: 0.6592 - val_accuracy: 0.7740\n",
            "Epoch 18/30\n",
            "1407/1407 [==============================] - 7s 5ms/step - loss: 0.7411 - accuracy: 0.7406 - val_loss: 0.6634 - val_accuracy: 0.7696\n",
            "Epoch 19/30\n",
            "1407/1407 [==============================] - 7s 5ms/step - loss: 0.7340 - accuracy: 0.7435 - val_loss: 0.6801 - val_accuracy: 0.7676\n",
            "Epoch 20/30\n",
            "1407/1407 [==============================] - 7s 5ms/step - loss: 0.7323 - accuracy: 0.7441 - val_loss: 0.6563 - val_accuracy: 0.7734\n",
            "Epoch 21/30\n",
            "1407/1407 [==============================] - 7s 5ms/step - loss: 0.7213 - accuracy: 0.7459 - val_loss: 0.6503 - val_accuracy: 0.7796\n",
            "Epoch 22/30\n",
            "1407/1407 [==============================] - 7s 5ms/step - loss: 0.7139 - accuracy: 0.7491 - val_loss: 0.6585 - val_accuracy: 0.7680\n",
            "Epoch 23/30\n",
            "1407/1407 [==============================] - 7s 5ms/step - loss: 0.7028 - accuracy: 0.7543 - val_loss: 0.6643 - val_accuracy: 0.7784\n",
            "Epoch 24/30\n",
            "1407/1407 [==============================] - 7s 5ms/step - loss: 0.6995 - accuracy: 0.7553 - val_loss: 0.6756 - val_accuracy: 0.7758\n",
            "Epoch 25/30\n",
            "1407/1407 [==============================] - 7s 5ms/step - loss: 0.6877 - accuracy: 0.7588 - val_loss: 0.6714 - val_accuracy: 0.7720\n",
            "Epoch 26/30\n",
            "1407/1407 [==============================] - 7s 5ms/step - loss: 0.6842 - accuracy: 0.7607 - val_loss: 0.6376 - val_accuracy: 0.7834\n",
            "Epoch 27/30\n",
            "1407/1407 [==============================] - 7s 5ms/step - loss: 0.6776 - accuracy: 0.7607 - val_loss: 0.6416 - val_accuracy: 0.7872\n",
            "Epoch 28/30\n",
            "1407/1407 [==============================] - 7s 5ms/step - loss: 0.6672 - accuracy: 0.7655 - val_loss: 0.6329 - val_accuracy: 0.7912\n",
            "Epoch 29/30\n",
            "1407/1407 [==============================] - 7s 5ms/step - loss: 0.6636 - accuracy: 0.7668 - val_loss: 0.6399 - val_accuracy: 0.7922\n",
            "Epoch 30/30\n",
            "1407/1407 [==============================] - 7s 5ms/step - loss: 0.6577 - accuracy: 0.7699 - val_loss: 0.6743 - val_accuracy: 0.7774\n"
          ]
        }
      ]
    },
    {
      "cell_type": "code",
      "source": [
        "plt.plot(history.history['accuracy'], label='Обучающая')\n",
        "plt.plot(history.history['val_accuracy'], label='Проверочная')\n",
        "plt.legend()\n",
        "plt.show()"
      ],
      "metadata": {
        "colab": {
          "base_uri": "https://localhost:8080/",
          "height": 265
        },
        "id": "dH4UapJ5KbMI",
        "outputId": "6596429d-a943-43d0-c2c2-7060f55763ad"
      },
      "execution_count": 42,
      "outputs": [
        {
          "output_type": "display_data",
          "data": {
            "text/plain": [
              "<Figure size 432x288 with 1 Axes>"
            ],
            "image/png": "[encoded data removed]"
          },
          "metadata": {
            "needs_background": "light"
          }
        }
      ]
    },
    {
      "cell_type": "markdown",
      "source": [
        "Проверка"
      ],
      "metadata": {
        "id": "UQ7Pq8yEIsB7"
      }
    },
    {
      "cell_type": "code",
      "source": [
        "scores = model.evaluate(x_test, y_test)\n",
        "print(round(scores[1]*100, 4))"
      ],
      "metadata": {
        "colab": {
          "base_uri": "https://localhost:8080/"
        },
        "id": "4tBnS3Y3KqRO",
        "outputId": "fb426965-d7e8-4bb2-af16-4c99ff79bb77"
      },
      "execution_count": 43,
      "outputs": [
        {
          "output_type": "stream",
          "name": "stdout",
          "text": [
            "313/313 [==============================] - 1s 4ms/step - loss: 0.7119 - accuracy: 0.7616\n",
            "76.16\n"
          ]
        }
      ]
    }
  ]
}